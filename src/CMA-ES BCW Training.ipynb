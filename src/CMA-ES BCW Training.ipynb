{
 "cells": [
  {
   "cell_type": "code",
   "execution_count": 1,
   "id": "fb381b5c",
   "metadata": {},
   "outputs": [
    {
     "name": "stderr",
     "output_type": "stream",
     "text": [
      "2022-09-06 17:03:48.924160: I tensorflow/core/platform/cpu_feature_guard.cc:193] This TensorFlow binary is optimized with oneAPI Deep Neural Network Library (oneDNN) to use the following CPU instructions in performance-critical operations:  AVX2 AVX512F FMA\n",
      "To enable them in other operations, rebuild TensorFlow with the appropriate compiler flags.\n",
      "2022-09-06 17:03:49.060734: E tensorflow/stream_executor/cuda/cuda_blas.cc:2981] Unable to register cuBLAS factory: Attempting to register factory for plugin cuBLAS when one has already been registered\n",
      "2022-09-06 17:03:49.612419: W tensorflow/stream_executor/platform/default/dso_loader.cc:64] Could not load dynamic library 'libnvinfer.so.7'; dlerror: libnvinfer.so.7: cannot open shared object file: No such file or directory\n",
      "2022-09-06 17:03:49.612485: W tensorflow/stream_executor/platform/default/dso_loader.cc:64] Could not load dynamic library 'libnvinfer_plugin.so.7'; dlerror: libnvinfer_plugin.so.7: cannot open shared object file: No such file or directory\n",
      "2022-09-06 17:03:49.612491: W tensorflow/compiler/tf2tensorrt/utils/py_utils.cc:38] TF-TRT Warning: Cannot dlopen some TensorRT libraries. If you would like to use Nvidia GPU with TensorRT, please make sure the missing libraries mentioned above are installed properly.\n"
     ]
    },
    {
     "ename": "ModuleNotFoundError",
     "evalue": "No module named 'keras.engine.topology'",
     "output_type": "error",
     "traceback": [
      "\u001b[0;31m---------------------------------------------------------------------------\u001b[0m",
      "\u001b[0;31mModuleNotFoundError\u001b[0m                       Traceback (most recent call last)",
      "\u001b[0;32m/tmp/ipykernel_43927/2110662944.py\u001b[0m in \u001b[0;36m<module>\u001b[0;34m\u001b[0m\n\u001b[1;32m     12\u001b[0m \u001b[0;34m\u001b[0m\u001b[0m\n\u001b[1;32m     13\u001b[0m \u001b[0;34m\u001b[0m\u001b[0m\n\u001b[0;32m---> 14\u001b[0;31m \u001b[0;32mfrom\u001b[0m \u001b[0mDEN\u001b[0m \u001b[0;32mimport\u001b[0m \u001b[0mDENlayer\u001b[0m\u001b[0;34m\u001b[0m\u001b[0;34m\u001b[0m\u001b[0m\n\u001b[0m\u001b[1;32m     15\u001b[0m \u001b[0;32mfrom\u001b[0m \u001b[0mDMN\u001b[0m \u001b[0;32mimport\u001b[0m \u001b[0mDMNlayer\u001b[0m\u001b[0;34m\u001b[0m\u001b[0;34m\u001b[0m\u001b[0m\n\u001b[1;32m     16\u001b[0m \u001b[0;32mfrom\u001b[0m \u001b[0mDSN\u001b[0m \u001b[0;32mimport\u001b[0m \u001b[0mDSNlayer\u001b[0m\u001b[0;34m\u001b[0m\u001b[0;34m\u001b[0m\u001b[0m\n",
      "\u001b[0;32m~/miniconda3/envs/dnn/lib/python3.7/site-packages/DEN.py\u001b[0m in \u001b[0;36m<module>\u001b[0;34m\u001b[0m\n\u001b[1;32m      5\u001b[0m \u001b[0;34m\u001b[0m\u001b[0m\n\u001b[1;32m      6\u001b[0m \u001b[0;34m\u001b[0m\u001b[0m\n\u001b[0;32m----> 7\u001b[0;31m \u001b[0;32mfrom\u001b[0m \u001b[0mkeras\u001b[0m\u001b[0;34m.\u001b[0m\u001b[0mengine\u001b[0m\u001b[0;34m.\u001b[0m\u001b[0mtopology\u001b[0m \u001b[0;32mimport\u001b[0m \u001b[0mLayer\u001b[0m\u001b[0;34m\u001b[0m\u001b[0;34m\u001b[0m\u001b[0m\n\u001b[0m\u001b[1;32m      8\u001b[0m \u001b[0;32mfrom\u001b[0m \u001b[0mkeras\u001b[0m \u001b[0;32mimport\u001b[0m \u001b[0mbackend\u001b[0m \u001b[0;32mas\u001b[0m \u001b[0mK\u001b[0m\u001b[0;34m\u001b[0m\u001b[0;34m\u001b[0m\u001b[0m\n\u001b[1;32m      9\u001b[0m \u001b[0;32mfrom\u001b[0m \u001b[0mkeras\u001b[0m \u001b[0;32mimport\u001b[0m \u001b[0minitializers\u001b[0m\u001b[0;34m\u001b[0m\u001b[0;34m\u001b[0m\u001b[0m\n",
      "\u001b[0;31mModuleNotFoundError\u001b[0m: No module named 'keras.engine.topology'"
     ]
    }
   ],
   "source": [
    "import pandas as pd\n",
    "import matplotlib.pyplot as plt\n",
    "from tensorflow.keras.utils import to_categorical \n",
    "from keras.models import Sequential\n",
    "from keras.layers import Dense\n",
    "from tensorflow.keras import optimizers\n",
    "from keras.callbacks import ModelCheckpoint\n",
    "import zipfile\n",
    "from sklearn.model_selection import KFold\n",
    "import numpy as np\n",
    "import tensorflow as tf\n",
    "\n",
    "\n",
    "from DEN import DENlayer\n",
    "from DMN import DMNlayer\n",
    "from DSN import DSNlayer\n",
    "\n",
    "import cma\n",
    "import sys\n",
    "  \n",
    "# appending a path\n",
    "sys.path.append('../')\n",
    "\n",
    "from cma_functions import *\n"
   ]
  },
  {
   "cell_type": "code",
   "execution_count": null,
   "id": "b9f9b471",
   "metadata": {
    "scrolled": false
   },
   "outputs": [],
   "source": [
    "DataSets = [\"BCW\", \"glass\",\"HDC\", \"hepatitis\",\"Iris\",\"page blocks\", \"PID\", \"seeds\",\"TG\",\"Wine\"]\n",
    "dataset = DataSets[0]\n",
    "\n",
    "x_train,y_train= get_data(\"../Datasets\", dataset,0)\n",
    "print(\"-\",len(x_train) )\n",
    "\n",
    "cma_dict = { \n",
    "            'maxiter':2000\n",
    "            \n",
    "            }\n",
    "if isinstance(y_train[0], (np.int64, np.int32, int) ):\n",
    "    n_output = 1\n",
    "else:\n",
    "    n_output = len(y_train[0])\n",
    "\n",
    "for i in range(n_output,n_output+40,2):\n",
    "    print(\"//////////////////////////////////////////////////////////////////////////////////////////////\")    \n",
    "        \n",
    "    neurons = [len(x_train[0]),i, n_output]\n",
    "    act = 'tanh'\n",
    "    if len(np.unique(y_train)) > 2:\n",
    "        activations = [act, 'softmax']\n",
    "    if len(np.unique(y_train)) == 2:\n",
    "        activations = [act, 'sigmoid']\n",
    "    \n",
    "    sigma  = 0.9\n",
    "    kfold=5\n",
    "    scaler = 3\n",
    "    model, data = main(model_name=['DSN','DSN'], neurons=neurons, activations=activations ,kfold=kfold,cma_dict=cma_dict,sigma=sigma, x = x_train,y = y_train,scaler=scaler)\n",
    "    print(\"//////////////////////////////////////////////////////////////////////////////////////////////\")\n",
    "   \n",
    "    \n",
    "        \n",
    "    write_data(File = 'loss_CMA-ES-'+dataset+'.csv', DataSet=dataset,Acc= data[0], Std=data[1], Modelo=data[2], Neuronas=i, Activacion=activations[0], Sigma=sigma, Xpopsize=10,Kfold=kfold, Scaler=data[3])\n",
    "    if (data[0])==1:\n",
    "        break\n"
   ]
  },
  {
   "cell_type": "code",
   "execution_count": null,
   "id": "dd80b4d8",
   "metadata": {},
   "outputs": [],
   "source": [
    "\n",
    "thetabest = np.load(\"global_theta_bestDMNDMN.npy\")\n",
    "scores = -val_acc(thetabest,neurons,x_train, y_train, model)\n",
    "print(scores)"
   ]
  }
 ],
 "metadata": {
  "kernelspec": {
   "display_name": "Python 3 (ipykernel)",
   "language": "python",
   "name": "python3"
  },
  "language_info": {
   "codemirror_mode": {
    "name": "ipython",
    "version": 3
   },
   "file_extension": ".py",
   "mimetype": "text/x-python",
   "name": "python",
   "nbconvert_exporter": "python",
   "pygments_lexer": "ipython3",
   "version": "3.7.13"
  }
 },
 "nbformat": 4,
 "nbformat_minor": 5
}
